{
 "cells": [
  {
   "cell_type": "markdown",
   "metadata": {},
   "source": [
    "### Notas de Daniel Salgado (CNS - IPICyT) para el curso Introducción a la programación y al aprendizaje de máquinas con Python (2020)"
   ]
  },
  {
   "cell_type": "markdown",
   "metadata": {},
   "source": [
    "# Pimp my ride"
   ]
  },
  {
   "cell_type": "markdown",
   "metadata": {},
   "source": [
    "En esta sección veremos algunas herramientas extras, útiles para trabajar con Python"
   ]
  },
  {
   "cell_type": "markdown",
   "metadata": {},
   "source": [
    "### Numpy\n",
    "\n",
    "Numpy es una biblioteca que provee herramientas muy útiles para cómputo científico. Entre otras cosas, contiene:\n",
    "\n",
    "* extensión para operaciones de alto desempeño con arreglos multidimensionales\n",
    "* en general, sus operaciones son más eficientes (muchas vienen de funciones compiladas en c = bajo nivel). \n",
    "* maneja contenedores utilizando de forma eficiente la memoria: espacios contiguos de memoria y por lo general más pequeños que un contenedor común de Python (así que es más rápido).\n",
    "* está diseñado/pensado para cómputo científico (resulta conveniente). En particular, incluye algoritmos comúnes para operar sobre arreglos.\n",
    "\n",
    "http://www.numpy.org/"
   ]
  },
  {
   "cell_type": "markdown",
   "metadata": {},
   "source": [
    "Una característica clave de numpy es la existencia de sus arreglos multidimensionales, los cuales son contenedores rápidos y flexibles para datos. Estos arreglos son de un solo tipo de variable (necesario para poder ser eficientes)."
   ]
  },
  {
   "cell_type": "code",
   "execution_count": 9,
   "metadata": {},
   "outputs": [
    {
     "name": "stdout",
     "output_type": "stream",
     "text": [
      "arrnp1 es del tipo <class 'numpy.ndarray'>, y tiene una longitud de 100 y una forma de (100,)\n"
     ]
    }
   ],
   "source": [
    "import numpy as np\n",
    "# Es posible convertir un contenedor en un arreglo de numpy\n",
    "lista = [i for i in range(100)]\n",
    "arrnp1 = np.array(lista)\n",
    "print(\"arrnp1 es del tipo {}, y tiene una longitud de {} y una forma de {}\".format(type(arrnp1), arrnp1.size, arrnp1.shape))"
   ]
  },
  {
   "cell_type": "code",
   "execution_count": 21,
   "metadata": {
    "scrolled": true
   },
   "outputs": [
    {
     "name": "stdout",
     "output_type": "stream",
     "text": [
      "[[1. 1. 1. 1.]\n",
      " [1. 1. 1. 1.]\n",
      " [1. 1. 1. 1.]]\n",
      "arrnp2 tiene una longitud de 12 y una forma de (3, 4)\n",
      "\n",
      "****\n",
      "\n",
      "[[0. 0. 0. 0.]\n",
      " [0. 0. 0. 0.]\n",
      " [0. 0. 0. 0.]]\n",
      "\n",
      "****\n",
      "\n",
      "[[0.98868259 0.50301752 0.21970541 0.43781888]\n",
      " [0.18035818 0.20532213 0.9908132  0.84096626]\n",
      " [0.12424329 0.17976487 0.75532346 0.73020323]]\n",
      "\n",
      "****\n",
      "\n",
      "[[0.98868259 0.50301752 0.21970541 0.43781888]\n",
      " [0.18035818 0.20532213 0.9908132  0.84096626]\n",
      " [0.12424329 0.17976487 0.75532346 0.73020323]]\n",
      "\n",
      "****\n",
      "\n",
      "[[3.14159265 3.14159265 3.14159265 3.14159265]\n",
      " [3.14159265 3.14159265 3.14159265 3.14159265]\n",
      " [3.14159265 3.14159265 3.14159265 3.14159265]]\n"
     ]
    }
   ],
   "source": [
    "# También se puede crear directamente desde numpy\n",
    "# Arreglo de 1's\n",
    "arrnp2 = np.ones((3,4))\n",
    "print(arrnp2)\n",
    "print(\"arrnp2 tiene una longitud de {} y una forma de {}\".format(arrnp2.size, arrnp2.shape))\n",
    "\n",
    "# Arreglo de 0's\n",
    "arrnp3 = np.zeros((3,4))\n",
    "print(\"\\n****\\n\")\n",
    "print(arrnp3)\n",
    "\n",
    "# Arreglo de valore \"aleatorios\"\n",
    "arrnp4 = np.random.random((3,4))\n",
    "print(\"\\n****\\n\")\n",
    "print(arrnp4)\n",
    "\n",
    "# Arreglo vacío\n",
    "arrnp5 = np.empty((3,4))\n",
    "print(\"\\n****\\n\")\n",
    "print(arrnp5)\n",
    "\n",
    "# Arreglo lleno de pi's\n",
    "arrnp6 = np.full((3,4),np.pi)\n",
    "print(\"\\n****\\n\")\n",
    "print(arrnp6)\n",
    "\n"
   ]
  },
  {
   "cell_type": "markdown",
   "metadata": {},
   "source": [
    "__Ejercicio__ Utilizando numpy, crea una matriz de 5x5 cuyos elementos sean números \"aleatorios\" entre 0 y 1 (revisa función random de numpy: https://docs.scipy.org/doc/numpy-1.16.0/reference/routines.random.html)."
   ]
  },
  {
   "cell_type": "code",
   "execution_count": 8,
   "metadata": {},
   "outputs": [],
   "source": [
    "# Tu respuesta aquí"
   ]
  },
  {
   "cell_type": "markdown",
   "metadata": {},
   "source": [
    "Estos arreglos pueden ser n-dimensionales. Las dimensiones de un arreglo se pueden consultar mediante arreglo.ndim  \n",
    "\n",
    "Cada dimensión tiene un tamaño, que corresponde al número de elementos que componen a esa dimensión. Por ejemplo, np.ones((3,4,2)) tiene 3 dimensiones, donde la primera dimensión tienen una longitudo de 3, la segunda tiene una longitud de 4 y la tercera tienen una longitud de 2.  \n",
    "\n",
    "Para acceder a los elementos del arreglo, se pueden utilizar índices (y por tanto también slicing)."
   ]
  },
  {
   "cell_type": "code",
   "execution_count": 33,
   "metadata": {},
   "outputs": [
    {
     "name": "stdout",
     "output_type": "stream",
     "text": [
      "(3, 3)\n",
      "[[1.5 2.5 3.5]\n",
      " [2.1 3.1 4.1]\n",
      " [0.7 1.7 2.7]]\n",
      "\n",
      "****\n",
      "\n",
      "[1.5 2.5 3.5]\n",
      "\n",
      "****\n",
      "\n",
      "[2.1 3.1 4.1]\n",
      "\n",
      "****\n",
      "\n",
      "[0.7 1.7 2.7]\n",
      "\n",
      "****\n",
      "\n",
      "[1.5 2.1 0.7]\n",
      "\n",
      "****\n",
      "\n",
      "[2.5 3.1 1.7]\n",
      "\n",
      "****\n",
      "\n",
      "[3.5 4.1 2.7]\n"
     ]
    }
   ],
   "source": [
    "# Arreglo de 3x3: 2 dimensiones, cada una de longitud 3\n",
    "arreglo = np.array([[1.5, 2.5, 3.5],[2.1, 3.1, 4.1],[0.7, 1.7, 2.7]])\n",
    "print(arreglo.shape)\n",
    "print(arreglo)\n",
    "print(\"\\n****\\n\")\n",
    "print(arreglo[0])\n",
    "print(\"\\n****\\n\")\n",
    "print(arreglo[1])\n",
    "print(\"\\n****\\n\")\n",
    "print(arreglo[2])\n",
    "\n",
    "# Para acceder al otro eje, se puede utilizar una coma para separar el índice\n",
    "print(\"\\n****\\n\")\n",
    "print(arreglo[:,0])\n",
    "print(\"\\n****\\n\")\n",
    "print(arreglo[:,1])\n",
    "print(\"\\n****\\n\")\n",
    "print(arreglo[:,2])"
   ]
  },
  {
   "cell_type": "markdown",
   "metadata": {},
   "source": [
    "__Ejercicio__ Modifica la matriz creada en el ejercicio anterior de la siguiente forma: suma 1.0 a los elementos pares de todas las columnas y suma 2.0 a los elementos impares de todas las filas."
   ]
  },
  {
   "cell_type": "code",
   "execution_count": 8,
   "metadata": {},
   "outputs": [],
   "source": [
    "# Tu respuesta aquí"
   ]
  },
  {
   "cell_type": "markdown",
   "metadata": {},
   "source": [
    "Un ejemplo sobre la velocidad de numpy"
   ]
  },
  {
   "cell_type": "code",
   "execution_count": 1,
   "metadata": {},
   "outputs": [
    {
     "name": "stdout",
     "output_type": "stream",
     "text": [
      "218 µs ± 2.59 µs per loop (mean ± std. dev. of 7 runs, 1000 loops each)\n",
      "1.05 µs ± 6.34 ns per loop (mean ± std. dev. of 7 runs, 1000000 loops each)\n"
     ]
    }
   ],
   "source": [
    "# Utilizando la magic function timeit, compara el tiempo que lleva ejecutar las siguientes dos versiones \n",
    "# Elevar al cuadrado números en lista, versión normal Python\n",
    "lini = [i for i in range(1000)]    # List comprehension para crear lista inicial\n",
    "lno = [i**2 for i in lini]  # List comprehension para elevar al cuadrado cada elemento\n",
    "\n",
    "# Utiliza timeit aquí para medir el tiempo que toma elevar al cuadrada cada elemento,\n",
    "# utilizando una comprensión de lista\n",
    "\n",
    "# Elevar al cuadrado números dentro de arreglo numpy (mismo número de elementos que lista anterior)\n",
    "import numpy as np           # Importo el módulo numpy con el nombre np\n",
    "lini_nu = np.arange(1000)    # Creo un arreglo en numpy  \n",
    "lfin_nu = lini_nu**2         # Elevo al cuadrado cada elemento\n",
    "\n",
    "# Utiliza timeit aquí para medir el tiempo que toma la misma operación,\n",
    "# pero utilizando operaciones con numpy\n"
   ]
  },
  {
   "cell_type": "markdown",
   "metadata": {},
   "source": [
    "Como intentan mostrar los ejemplos anteriores, numpy me permite manejar arreglos multidimensionales de forma sencilla. "
   ]
  },
  {
   "cell_type": "code",
   "execution_count": 42,
   "metadata": {
    "scrolled": true
   },
   "outputs": [
    {
     "name": "stdout",
     "output_type": "stream",
     "text": [
      "[ 5.   6.2  7.4  8.6  9.8 11.  12.2 13.4 14.6 15.8 17.  18.2 19.4 20.6\n",
      " 21.8 23.  24.2 25.4 26.6 27.8 29.  30.2 31.4 32.6 33.8 35.  36.2 37.4\n",
      " 38.6 39.8 41.  42.2 43.4 44.6 45.8 47.  48.2 49.4 50.6]\n",
      "\n",
      "****\n",
      "\n",
      "[0.         0.26315789 0.52631579 0.78947368 1.05263158 1.31578947\n",
      " 1.57894737 1.84210526 2.10526316 2.36842105 2.63157895 2.89473684\n",
      " 3.15789474 3.42105263 3.68421053 3.94736842 4.21052632 4.47368421\n",
      " 4.73684211 5.        ]\n"
     ]
    }
   ],
   "source": [
    "# Por ejemplo:\n",
    "a = np.arange(5,50.61,1.2)     # Genero números en un rango, y espaciados como yo quiera\n",
    "print(a)\n",
    "print(\"\\n****\\n\")\n",
    "b = np.linspace(0,5,20)   # Hago una partición de N elementos (20 en este caso), dentro de un rango\n",
    "print(b)"
   ]
  },
  {
   "cell_type": "markdown",
   "metadata": {},
   "source": [
    "__Ejemplo__ Crea un programa que genere 100 puntos aleatorios en un espacio 3d, y calcula la distancia promedio de estos puntos con respecto al punto (1,0,0). Compara el tiempo que toma calcular las distancias con numpy contra una forma más tradicional."
   ]
  },
  {
   "cell_type": "code",
   "execution_count": 51,
   "metadata": {},
   "outputs": [],
   "source": [
    "# observar funciones de numpy random.random y linalg.norm\n",
    "import numpy as np\n",
    "\n",
    "def funnp():\n",
    "    pos = np.random.random((100,3)) # <- 100 elementos con 3 componentes \"aleatorias\"\n",
    "    \n",
    "\n",
    "def funtrad():\n",
    "    pos = np.random.random((100,3)) # <- 100 elementos con 3 componentes \"aleatorias\"\n"
   ]
  },
  {
   "cell_type": "code",
   "execution_count": 66,
   "metadata": {},
   "outputs": [
    {
     "name": "stdout",
     "output_type": "stream",
     "text": [
      "Un encabezado X\n",
      "Algunas especificaciones mega-útiles\n",
      "0.529739114\t0.225475686\t0.807568944\n",
      "0.801841098\t0.546350243\t0.979566582\n",
      "\n",
      "\n",
      "El valor promedio de la primera columna: 0.53966252585\n",
      "El valor promedio de la segunda columna: 0.5398143291099999\n"
     ]
    }
   ],
   "source": [
    "import random\n",
    "with open(\"Datos_locos.dat\", \"w\") as fout:\n",
    "    fout.write(\"Un encabezado X\\n\")\n",
    "    fout.write(\"Algunas especificaciones mega-útiles\\n\")\n",
    "    for i in range(100):\n",
    "        fout.write(\"{:.9f}\\t{:.9f}\\t{:.9f}\\n\".format(random.random(),random.random(),random.random()))\n",
    "\n",
    "# Es muy sencillo importar archivos con datos numéricos, y manipularlos\n",
    "# En linux:\n",
    "!head -3 ./Datos_locos.dat # Despliego primeras 5 líneas de archivo\n",
    "!tail -1 ./Datos_locos.dat # Despliego primeras 5 líneas de archivo\n",
    "\n",
    "# Ahora utilizo numpy para importarlo y sacarle información\n",
    "dat1 = np.loadtxt(\"Datos_locos.dat\", skiprows=2) # 2 líneas texto\n",
    "print(\"\\n\")\n",
    "print(\"El valor promedio de la primera columna: {}\".format(np.average(dat1[:,1]))) # Obtengo promedio de la primera columna\n",
    "\n",
    "# Ahora imprime el valor promedio de la 2da y 3ra columna, junto con su desviación estándar\n",
    "# aquí tu código"
   ]
  },
  {
   "cell_type": "markdown",
   "metadata": {},
   "source": [
    "__Ejercicio__ Contesta las siguientes dos preguntas, tomando en cuenta el siguiente arreglo de numpy:\n",
    "\n",
    "a = numpy.linspace(0,4,12).reshape(3,2,2)\n",
    "\n",
    "_¿Cuántas dimensiones tiene el arreglo?_\n",
    "\n",
    "_¿Qué tamaño tiene la última dimensión del arreglo?_\n"
   ]
  },
  {
   "cell_type": "code",
   "execution_count": 1,
   "metadata": {},
   "outputs": [],
   "source": [
    "# Tu respuesta aquí\n",
    "import numpy as np\n",
    "a = np.linspace(0,4,12).reshape(3,2,2)"
   ]
  },
  {
   "cell_type": "markdown",
   "metadata": {},
   "source": [
    "__Ejercicio__ Utilizando numpy, crea la matriz identidad de 4x4"
   ]
  },
  {
   "cell_type": "code",
   "execution_count": null,
   "metadata": {},
   "outputs": [],
   "source": [
    "# Tu respuesta aquí"
   ]
  },
  {
   "cell_type": "markdown",
   "metadata": {},
   "source": [
    "__Ejercicio__ Utilizando numpy, crea una matriz diagonal con los elementos 5, 6, 7 y 8"
   ]
  },
  {
   "cell_type": "code",
   "execution_count": null,
   "metadata": {},
   "outputs": [],
   "source": [
    "# Tu respuesta aquí"
   ]
  },
  {
   "cell_type": "markdown",
   "metadata": {},
   "source": [
    "__Ejercicio__ Utilizando numpy, crea un programa que calcule el ángulo que hay entre dos vectores (recordar definición geométrica del producto punto: https://es.wikipedia.org/wiki/Producto_escalar)"
   ]
  },
  {
   "cell_type": "code",
   "execution_count": 8,
   "metadata": {},
   "outputs": [],
   "source": [
    "# Tu respuesta aquí"
   ]
  },
  {
   "cell_type": "markdown",
   "metadata": {},
   "source": [
    "__Ejercicio__ Utilizando numpy y los arreglos definidos en la celda de abajo, a) suma el vector r a cada fila de la matriz, y b) suma el vector c a cada columna de la matriz."
   ]
  },
  {
   "cell_type": "code",
   "execution_count": 8,
   "metadata": {},
   "outputs": [],
   "source": [
    "# Definición de arreglos\n",
    "\n",
    "mat = np.arange(12).reshape((4,3))\n",
    "r = np.array(range(1,4))\n",
    "c = np.array([1,0,0,0])\n",
    "\n",
    "# a) Tu respuesta aquí\n",
    "\n",
    "# b) Tu respuesta aquí"
   ]
  },
  "language_info": {
   "codemirror_mode": {
    "name": "ipython",
    "version": 3
   },
   "file_extension": ".py",
   "mimetype": "text/x-python",
   "name": "python",
   "nbconvert_exporter": "python",
   "pygments_lexer": "ipython3",
   "version": "3.7.6"
  }
 },
 "nbformat": 4,
 "nbformat_minor": 2
}
